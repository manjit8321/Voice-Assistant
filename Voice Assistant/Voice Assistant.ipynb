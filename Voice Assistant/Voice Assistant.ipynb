{
 "cells": [
  {
   "cell_type": "code",
   "execution_count": 1,
   "metadata": {},
   "outputs": [
    {
     "name": "stdout",
     "output_type": "stream",
     "text": [
      "Requirement already satisfied: SpeechRecognition in e:\\anaconda3\\lib\\site-packages (3.8.1)\n"
     ]
    }
   ],
   "source": [
    "! pip install SpeechRecognition"
   ]
  },
  {
   "cell_type": "code",
   "execution_count": 2,
   "metadata": {},
   "outputs": [
    {
     "name": "stdout",
     "output_type": "stream",
     "text": [
      "Requirement already satisfied: pyttsx3 in e:\\anaconda3\\lib\\site-packages (2.90)\n",
      "Requirement already satisfied: comtypes; platform_system == \"Windows\" in e:\\anaconda3\\lib\\site-packages (from pyttsx3) (1.1.7)\n",
      "Requirement already satisfied: pywin32; platform_system == \"Windows\" in e:\\anaconda3\\lib\\site-packages (from pyttsx3) (223)\n",
      "Requirement already satisfied: pypiwin32; platform_system == \"Windows\" in e:\\anaconda3\\lib\\site-packages (from pyttsx3) (223)\n"
     ]
    }
   ],
   "source": [
    "! pip install pyttsx3"
   ]
  },
  {
   "cell_type": "code",
   "execution_count": 3,
   "metadata": {},
   "outputs": [
    {
     "name": "stdout",
     "output_type": "stream",
     "text": [
      "Requirement already satisfied: pipwin in e:\\anaconda3\\lib\\site-packages (0.5.1)\n",
      "Requirement already satisfied: six in e:\\anaconda3\\lib\\site-packages (from pipwin) (1.12.0)\n",
      "Requirement already satisfied: pyprind in e:\\anaconda3\\lib\\site-packages (from pipwin) (2.11.3)\n",
      "Requirement already satisfied: beautifulsoup4>=4.9.0 in e:\\anaconda3\\lib\\site-packages (from pipwin) (4.9.3)\n",
      "Requirement already satisfied: packaging in e:\\anaconda3\\lib\\site-packages (from pipwin) (18.0)\n",
      "Requirement already satisfied: js2py in e:\\anaconda3\\lib\\site-packages (from pipwin) (0.71)\n",
      "Requirement already satisfied: docopt in e:\\anaconda3\\lib\\site-packages (from pipwin) (0.6.2)\n",
      "Requirement already satisfied: requests in e:\\anaconda3\\lib\\site-packages (from pipwin) (2.21.0)\n",
      "Requirement already satisfied: pySmartDL>=1.3.1; python_version >= \"3.4\" in e:\\anaconda3\\lib\\site-packages (from pipwin) (1.3.4)\n",
      "Requirement already satisfied: soupsieve>1.2; python_version >= \"3.0\" in e:\\anaconda3\\lib\\site-packages (from beautifulsoup4>=4.9.0->pipwin) (2.2.1)\n",
      "Requirement already satisfied: pyparsing>=2.0.2 in e:\\anaconda3\\lib\\site-packages (from packaging->pipwin) (2.3.0)\n",
      "Requirement already satisfied: tzlocal>=1.2 in e:\\anaconda3\\lib\\site-packages (from js2py->pipwin) (3.0)\n",
      "Requirement already satisfied: pyjsparser>=2.5.1 in e:\\anaconda3\\lib\\site-packages (from js2py->pipwin) (2.7.1)\n",
      "Requirement already satisfied: chardet<3.1.0,>=3.0.2 in e:\\anaconda3\\lib\\site-packages (from requests->pipwin) (3.0.4)\n",
      "Requirement already satisfied: urllib3<1.25,>=1.21.1 in e:\\anaconda3\\lib\\site-packages (from requests->pipwin) (1.24.1)\n",
      "Requirement already satisfied: idna<2.9,>=2.5 in e:\\anaconda3\\lib\\site-packages (from requests->pipwin) (2.8)\n",
      "Requirement already satisfied: certifi>=2017.4.17 in e:\\anaconda3\\lib\\site-packages (from requests->pipwin) (2021.5.30)\n",
      "Requirement already satisfied: backports.zoneinfo; python_version < \"3.9\" in e:\\anaconda3\\lib\\site-packages (from tzlocal>=1.2->js2py->pipwin) (0.2.1)\n",
      "Requirement already satisfied: tzdata; platform_system == \"Windows\" in e:\\anaconda3\\lib\\site-packages (from tzlocal>=1.2->js2py->pipwin) (2021.1)\n"
     ]
    }
   ],
   "source": [
    "! pip install pipwin"
   ]
  },
  {
   "cell_type": "code",
   "execution_count": 7,
   "metadata": {
    "scrolled": true
   },
   "outputs": [
    {
     "name": "stdout",
     "output_type": "stream",
     "text": [
      "Collecting pywhatkit\n",
      "  Downloading https://files.pythonhosted.org/packages/03/4e/038218b624563e50fec86d8c8283a20511efffa6bd572f9e48fdb114c35c/pywhatkit-5.1-py3-none-any.whl\n",
      "Collecting pyautogui (from pywhatkit)\n",
      "  Downloading https://files.pythonhosted.org/packages/f0/76/7a0ec1013bc3559b7438f6773cba05ffaec600b8989be2d621a144e39b50/PyAutoGUI-0.9.53.tar.gz (59kB)\n",
      "Requirement already satisfied: requests in e:\\anaconda3\\lib\\site-packages (from pywhatkit) (2.21.0)\n",
      "Requirement already satisfied: Pillow in e:\\anaconda3\\lib\\site-packages (from pywhatkit) (5.3.0)\n",
      "Collecting wikipedia (from pywhatkit)\n",
      "  Downloading https://files.pythonhosted.org/packages/67/35/25e68fbc99e672127cc6fbb14b8ec1ba3dfef035bf1e4c90f78f24a80b7d/wikipedia-1.4.0.tar.gz\n",
      "Collecting pymsgbox (from pyautogui->pywhatkit)\n",
      "  Downloading https://files.pythonhosted.org/packages/7d/ff/4c6f31a4f08979f12a663f2aeb6c8b765d3bd592e66eaaac445f547bb875/PyMsgBox-1.0.9.tar.gz\n",
      "  Installing build dependencies: started\n",
      "  Installing build dependencies: finished with status 'done'\n",
      "Collecting PyTweening>=1.0.1 (from pyautogui->pywhatkit)\n",
      "  Downloading https://files.pythonhosted.org/packages/b9/f8/c32a58d6e4dff8aa5c27e907194d69f3b57e525c2e4af96f39c6e9c854d2/PyTweening-1.0.3.zip\n",
      "Collecting pyscreeze>=0.1.21 (from pyautogui->pywhatkit)\n",
      "  Downloading https://files.pythonhosted.org/packages/4b/64/1087b4f2c1c5ca14e6ceba7d1e116c494629de36b9882cf014ae02814ce5/PyScreeze-0.1.27.tar.gz\n",
      "  Installing build dependencies: started\n",
      "  Installing build dependencies: finished with status 'done'\n",
      "Collecting pygetwindow>=0.0.5 (from pyautogui->pywhatkit)\n",
      "  Downloading https://files.pythonhosted.org/packages/e1/70/c7a4f46dbf06048c6d57d9489b8e0f9c4c3d36b7479f03c5ca97eaa2541d/PyGetWindow-0.0.9.tar.gz\n",
      "Collecting mouseinfo (from pyautogui->pywhatkit)\n",
      "  Downloading https://files.pythonhosted.org/packages/28/fa/b2ba8229b9381e8f6381c1dcae6f4159a7f72349e414ed19cfbbd1817173/MouseInfo-0.1.3.tar.gz\n",
      "Requirement already satisfied: urllib3<1.25,>=1.21.1 in e:\\anaconda3\\lib\\site-packages (from requests->pywhatkit) (1.24.1)\n",
      "Requirement already satisfied: idna<2.9,>=2.5 in e:\\anaconda3\\lib\\site-packages (from requests->pywhatkit) (2.8)\n",
      "Requirement already satisfied: chardet<3.1.0,>=3.0.2 in e:\\anaconda3\\lib\\site-packages (from requests->pywhatkit) (3.0.4)\n",
      "Requirement already satisfied: certifi>=2017.4.17 in e:\\anaconda3\\lib\\site-packages (from requests->pywhatkit) (2021.5.30)\n",
      "Requirement already satisfied: beautifulsoup4 in e:\\anaconda3\\lib\\site-packages (from wikipedia->pywhatkit) (4.9.3)\n",
      "Collecting pyrect (from pygetwindow>=0.0.5->pyautogui->pywhatkit)\n",
      "  Downloading https://files.pythonhosted.org/packages/2f/68/bd7bf96fc44217e769f27912e6c9bb3e9987cba286054af6120448ce8212/PyRect-0.1.4.tar.gz\n",
      "Collecting pyperclip (from mouseinfo->pyautogui->pywhatkit)\n",
      "  Downloading https://files.pythonhosted.org/packages/a7/2c/4c64579f847bd5d539803c8b909e54ba087a79d01bb3aba433a95879a6c5/pyperclip-1.8.2.tar.gz\n",
      "Requirement already satisfied: soupsieve>1.2; python_version >= \"3.0\" in e:\\anaconda3\\lib\\site-packages (from beautifulsoup4->wikipedia->pywhatkit) (2.2.1)\n",
      "Building wheels for collected packages: pyautogui, wikipedia, pymsgbox, PyTweening, pyscreeze, pygetwindow, mouseinfo, pyrect, pyperclip\n",
      "  Running setup.py bdist_wheel for pyautogui: started\n",
      "  Running setup.py bdist_wheel for pyautogui: finished with status 'done'\n",
      "  Stored in directory: C:\\Users\\ASUS ROG STRIX\\AppData\\Local\\pip\\Cache\\wheels\\e6\\42\\25\\1cfcc9efcbe856c3c61af95b718ed5a1a75f7759d3507f5129\n",
      "  Running setup.py bdist_wheel for wikipedia: started\n",
      "  Running setup.py bdist_wheel for wikipedia: finished with status 'done'\n",
      "  Stored in directory: C:\\Users\\ASUS ROG STRIX\\AppData\\Local\\pip\\Cache\\wheels\\87\\2a\\18\\4e471fd96d12114d16fe4a446d00c3b38fb9efcb744bd31f4a\n",
      "  Running setup.py bdist_wheel for pymsgbox: started\n",
      "  Running setup.py bdist_wheel for pymsgbox: finished with status 'done'\n",
      "  Stored in directory: C:\\Users\\ASUS ROG STRIX\\AppData\\Local\\pip\\Cache\\wheels\\16\\d7\\4e\\fffdd54b1cca86608b7655c9a2854890a38f955ce9532848cd\n",
      "  Running setup.py bdist_wheel for PyTweening: started\n",
      "  Running setup.py bdist_wheel for PyTweening: finished with status 'done'\n",
      "  Stored in directory: C:\\Users\\ASUS ROG STRIX\\AppData\\Local\\pip\\Cache\\wheels\\7b\\92\\30\\06e21159eed2709436bfb6d7c690959e578cf74f029643866e\n",
      "  Running setup.py bdist_wheel for pyscreeze: started\n",
      "  Running setup.py bdist_wheel for pyscreeze: finished with status 'done'\n",
      "  Stored in directory: C:\\Users\\ASUS ROG STRIX\\AppData\\Local\\pip\\Cache\\wheels\\4d\\c1\\33\\e7a099b5906e1110c51d32c957ad56df5a9976cd43153398df\n",
      "  Running setup.py bdist_wheel for pygetwindow: started\n",
      "  Running setup.py bdist_wheel for pygetwindow: finished with status 'done'\n",
      "  Stored in directory: C:\\Users\\ASUS ROG STRIX\\AppData\\Local\\pip\\Cache\\wheels\\4b\\c1\\c6\\89b4fb35adcbfe54c5e71e830330dc39cfa231b32dc62eed6b\n",
      "  Running setup.py bdist_wheel for mouseinfo: started\n",
      "  Running setup.py bdist_wheel for mouseinfo: finished with status 'done'\n",
      "  Stored in directory: C:\\Users\\ASUS ROG STRIX\\AppData\\Local\\pip\\Cache\\wheels\\eb\\81\\32\\4d7b345486dbc3f3ee45316f8f4cbdebafc1b5d1da3353b529\n",
      "  Running setup.py bdist_wheel for pyrect: started\n",
      "  Running setup.py bdist_wheel for pyrect: finished with status 'done'\n",
      "  Stored in directory: C:\\Users\\ASUS ROG STRIX\\AppData\\Local\\pip\\Cache\\wheels\\3e\\61\\83\\8fd1478e984f7378e57972f5fd9bb0dbffc349fefc9efa5bf9\n",
      "  Running setup.py bdist_wheel for pyperclip: started\n",
      "  Running setup.py bdist_wheel for pyperclip: finished with status 'done'\n",
      "  Stored in directory: C:\\Users\\ASUS ROG STRIX\\AppData\\Local\\pip\\Cache\\wheels\\25\\af\\b8\\3407109267803f4015e1ee2ff23be0c8c19ce4008665931ee1\n",
      "Successfully built pyautogui wikipedia pymsgbox PyTweening pyscreeze pygetwindow mouseinfo pyrect pyperclip\n",
      "Installing collected packages: pymsgbox, PyTweening, pyscreeze, pyrect, pygetwindow, pyperclip, mouseinfo, pyautogui, wikipedia, pywhatkit\n",
      "Successfully installed PyTweening-1.0.3 mouseinfo-0.1.3 pyautogui-0.9.53 pygetwindow-0.0.9 pymsgbox-1.0.9 pyperclip-1.8.2 pyrect-0.1.4 pyscreeze-0.1.27 pywhatkit-5.1 wikipedia-1.4.0\n"
     ]
    }
   ],
   "source": [
    "! pip install pywhatkit"
   ]
  },
  {
   "cell_type": "code",
   "execution_count": 4,
   "metadata": {},
   "outputs": [
    {
     "name": "stdout",
     "output_type": "stream",
     "text": [
      "Package `pyaudio` found in cache\n",
      "Downloading package . . .\n",
      "https://download.lfd.uci.edu/pythonlibs/y2rycu7g/PyAudio-0.2.11-cp37-cp37m-win_amd64.whl\n",
      "PyAudio-0.2.11-cp37-cp37m-win_amd64.whl\n",
      "[*] 0 bytes / 110 kB @ 0 bytes/s [------------------] [0.0%, 0s left]   \b\b\b\b\b\b\b\b\b\b\b\b\b\b\b\b\b\b\b\b\b\b\b\b\b\b\b\b\b\b\b\b\b\b\b\b\b\b\b\b\b\b\b\b\b\b\b\b\b\b\b\b\b\b\b\b\b\b\b\b\b\b\b\b\b\b\b\b\b\b\b\b\b [*] 0 bytes / 110 kB @ 0 bytes/s [------------------] [0.0%, 0s left]   \b\b\b\b\b\b\b\b\b\b\b\b\b\b\b\b\b\b\b\b\b\b\b\b\b\b\b\b\b\b\b\b\b\b\b\b\b\b\b\b\b\b\b\b\b\b\b\b\b\b\b\b\b\b\b\b\b\b\b\b\b\b\b\b\b\b\b\b\b\b\b\b\b [*] 0 bytes / 110 kB @ 0 bytes/s [------------------] [0.0%, 0s left]   \b\b\b\b\b\b\b\b\b\b\b\b\b\b\b\b\b\b\b\b\b\b\b\b\b\b\b\b\b\b\b\b\b\b\b\b\b\b\b\b\b\b\b\b\b\b\b\b\b\b\b\b\b\b\b\b\b\b\b\b\b\b\b\b\b\b\b\b\b\b\b\b\b [*] 0 bytes / 110 kB @ 0 bytes/s [------------------] [0.0%, 0s left]   \b\b\b\b\b\b\b\b\b\b\b\b\b\b\b\b\b\b\b\b\b\b\b\b\b\b\b\b\b\b\b\b\b\b\b\b\b\b\b\b\b\b\b\b\b\b\b\b\b\b\b\b\b\b\b\b\b\b\b\b\b\b\b\b\b\b\b\b\b\b\b\b\b [*] 0 bytes / 110 kB @ 0 bytes/s [------------------] [0.0%, 0s left]   \b\b\b\b\b\b\b\b\b\b\b\b\b\b\b\b\b\b\b\b\b\b\b\b\b\b\b\b\b\b\b\b\b\b\b\b\b\b\b\b\b\b\b\b\b\b\b\b\b\b\b\b\b\b\b\b\b\b\b\b\b\b\b\b\b\b\b\b\b\b\b\b\b [*] 0 bytes / 110 kB @ 0 bytes/s [------------------] [0.0%, 0s left]   \b\b\b\b\b\b\b\b\b\b\b\b\b\b\b\b\b\b\b\b\b\b\b\b\b\b\b\b\b\b\b\b\b\b\b\b\b\b\b\b\b\b\b\b\b\b\b\b\b\b\b\b\b\b\b\b\b\b\b\b\b\b\b\b\b\b\b\b\b\b\b\b\b [*] 0 bytes / 110 kB @ 0 bytes/s [------------------] [0.0%, 0s left]   \b\b\b\b\b\b\b\b\b\b\b\b\b\b\b\b\b\b\b\b\b\b\b\b\b\b\b\b\b\b\b\b\b\b\b\b\b\b\b\b\b\b\b\b\b\b\b\b\b\b\b\b\b\b\b\b\b\b\b\b\b\b\b\b\b\b\b\b\b\b\b\b\b [*] 0 bytes / 110 kB @ 0 bytes/s [------------------] [0.0%, 0s left]   \b\b\b\b\b\b\b\b\b\b\b\b\b\b\b\b\b\b\b\b\b\b\b\b\b\b\b\b\b\b\b\b\b\b\b\b\b\b\b\b\b\b\b\b\b\b\b\b\b\b\b\b\b\b\b\b\b\b\b\b\b\b\b\b\b\b\b\b\b\b\b\b\b [*] 0 bytes / 110 kB @ 0 bytes/s [------------------] [0.0%, 0s left]   \b\b\b\b\b\b\b\b\b\b\b\b\b\b\b\b\b\b\b\b\b\b\b\b\b\b\b\b\b\b\b\b\b\b\b\b\b\b\b\b\b\b\b\b\b\b\b\b\b\b\b\b\b\b\b\b\b\b\b\b\b\b\b\b\b\b\b\b\b\b\b\b\b [*] 0 bytes / 110 kB @ 0 bytes/s [------------------] [0.0%, 0s left]   \b\b\b\b\b\b\b\b\b\b\b\b\b\b\b\b\b\b\b\b\b\b\b\b\b\b\b\b\b\b\b\b\b\b\b\b\b\b\b\b\b\b\b\b\b\b\b\b\b\b\b\b\b\b\b\b\b\b\b\b\b\b\b\b\b\b\b\b\b\b\b\b\b [*] 0 bytes / 110 kB @ 0 bytes/s [------------------] [0.0%, 0s left]   \b\b\b\b\b\b\b\b\b\b\b\b\b\b\b\b\b\b\b\b\b\b\b\b\b\b\b\b\b\b\b\b\b\b\b\b\b\b\b\b\b\b\b\b\b\b\b\b\b\b\b\b\b\b\b\b\b\b\b\b\b\b\b\b\b\b\b\b\b\b\b\b\b [*] 0 bytes / 110 kB @ 0 bytes/s [------------------] [0.0%, 0s left]   \b\b\b\b\b\b\b\b\b\b\b\b\b\b\b\b\b\b\b\b\b\b\b\b\b\b\b\b\b\b\b\b\b\b\b\b\b\b\b\b\b\b\b\b\b\b\b\b\b\b\b\b\b\b\b\b\b\b\b\b\b\b\b\b\b\b\b\b\b\b\b\b\b [*] 0 bytes / 110 kB @ 0 bytes/s [------------------] [0.0%, 0s left]   \b\b\b\b\b\b\b\b\b\b\b\b\b\b\b\b\b\b\b\b\b\b\b\b\b\b\b\b\b\b\b\b\b\b\b\b\b\b\b\b\b\b\b\b\b\b\b\b\b\b\b\b\b\b\b\b\b\b\b\b\b\b\b\b\b\b\b\b\b\b\b\b\b [*] 0 bytes / 110 kB @ 0 bytes/s [------------------] [0.0%, 0s left]   \b\b\b\b\b\b\b\b\b\b\b\b\b\b\b\b\b\b\b\b\b\b\b\b\b\b\b\b\b\b\b\b\b\b\b\b\b\b\b\b\b\b\b\b\b\b\b\b\b\b\b\b\b\b\b\b\b\b\b\b\b\b\b\b\b\b\b\b\b\b\b\b\b [*] 8 kB / 110 kB @ 5 kB/s [#-----------------] [7.3%, 0s left]   \b\b\b\b\b\b\b\b\b\b\b\b\b\b\b\b\b\b\b\b\b\b\b\b\b\b\b\b\b\b\b\b\b\b\b\b\b\b\b\b\b\b\b\b\b\b\b\b\b\b\b\b\b\b\b\b\b\b\b\b\b\b\b\b\b\b\b [*] 8 kB / 110 kB @ 5 kB/s [#-----------------] [7.3%, 0s left]   \b\b\b\b\b\b\b\b\b\b\b\b\b\b\b\b\b\b\b\b\b\b\b\b\b\b\b\b\b\b\b\b\b\b\b\b\b\b\b\b\b\b\b\b\b\b\b\b\b\b\b\b\b\b\b\b\b\b\b\b\b\b\b\b\b\b\b [*] 24 kB / 110 kB @ 14 kB/s [###---------------] [21.9%, 0s left]   \b\b\b\b\b\b\b\b\b\b\b\b\b\b\b\b\b\b\b\b\b\b\b\b\b\b\b\b\b\b\b\b\b\b\b\b\b\b\b\b\b\b\b\b\b\b\b\b\b\b\b\b\b\b\b\b\b\b\b\b\b\b\b\b\b\b\b\b\b\b [*] 24 kB / 110 kB @ 13 kB/s [###---------------] [21.9%, 0s left]   \b\b\b\b\b\b\b\b\b\b\b\b\b\b\b\b\b\b\b\b\b\b\b\b\b\b\b\b\b\b\b\b\b\b\b\b\b\b\b\b\b\b\b\b\b\b\b\b\b\b\b\b\b\b\b\b\b\b\b\b\b\b\b\b\b\b\b\b\b\b [*] 24 kB / 110 kB @ 13 kB/s [###---------------] [21.9%, 0s left]   \b\b\b\b\b\b\b\b\b\b\b\b\b\b\b\b\b\b\b\b\b\b\b\b\b\b\b\b\b\b\b\b\b\b\b\b\b\b\b\b\b\b\b\b\b\b\b\b\b\b\b\b\b\b\b\b\b\b\b\b\b\b\b\b\b\b\b\b\b\b [*] 56 kB / 110 kB @ 28 kB/s [#########---------] [51.0%, 0s left]   \b\b\b\b\b\b\b\b\b\b\b\b\b\b\b\b\b\b\b\b\b\b\b\b\b\b\b\b\b\b\b\b\b\b\b\b\b\b\b\b\b\b\b\b\b\b\b\b\b\b\b\b\b\b\b\b\b\b\b\b\b\b\b\b\b\b\b\b\b\b [*] 56 kB / 110 kB @ 27 kB/s [#########---------] [51.0%, 0s left]   \b\b\b\b\b\b\b\b\b\b\b\b\b\b\b\b\b\b\b\b\b\b\b\b\b\b\b\b\b\b\b\b\b\b\b\b\b\b\b\b\b\b\b\b\b\b\b\b\b\b\b\b\b\b\b\b\b\b\b\b\b\b\b\b\b\b\b\b\b\b [*] 88 kB / 110 kB @ 40 kB/s [##############----] [80.1%, 0s left]   \b\b\b\b\b\b\b\b\b\b\b\b\b\b\b\b\b\b\b\b\b\b\b\b\b\b\b\b\b\b\b\b\b\b\b\b\b\b\b\b\b\b\b\b\b\b\b\b\b\b\b\b\b\b\b\b\b\b\b\b\b\b\b\b\b\b\b\b\b\b [*] 88 kB / 110 kB @ 38 kB/s [##############----] [80.1%, 0s left]   \b\b\b\b\b\b\b\b\b\b\b\b\b\b\b\b\b\b\b\b\b\b\b\b\b\b\b\b\b\b\b\b\b\b\b\b\b\b\b\b\b\b\b\b\b\b\b\b\b\b\b\b\b\b\b\b\b\b\b\b\b\b\b\b\b\b\b\b\b\b [*] 88 kB / 110 kB @ 37 kB/s [##############----] [80.1%, 0s left]   \b\b\b\b\b\b\b\b\b\b\b\b\b\b\b\b\b\b\b\b\b\b\b\b\b\b\b\b\b\b\b\b\b\b\b\b\b\b\b\b\b\b\b\b\b\b\b\b\b\b\b\b\b\b\b\b\b\b\b\b\b\b\b\b\b\b\b\b\b\b Requirement already satisfied: PyAudio==0.2.11 from file:///C:/Users/ASUS%20ROG%20STRIX/pipwin/PyAudio-0.2.11-cp37-cp37m-win_amd64.whl in e:\\anaconda3\\lib\\site-packages (0.2.11)\n",
      "[*] 110 kB / 110 kB @ 37 kB/s [##################] [100%, 0s left]    \n"
     ]
    }
   ],
   "source": [
    "! pipwin install pyaudio\n"
   ]
  },
  {
   "cell_type": "code",
   "execution_count": 44,
   "metadata": {},
   "outputs": [
    {
     "name": "stdout",
     "output_type": "stream",
     "text": [
      " \n",
      "\n",
      "\n",
      "\t\t******Example Of Tasks I Can Perform********\n",
      "\n",
      "\t-------------------------------------------------------\n",
      " \t\t\tWindows Media Player\n",
      " \t\t\tNotepad\n",
      " \t\t\tYoutube\n",
      " \t\t\tChrome Browser\n",
      " \t\t\tGmail\n",
      " \t\t\tLikedIn\n",
      " \t\t\tMicrosoft Teams\n",
      " \t\t\t WhatsApp\n",
      " \t\t\t Quit or Exit\n",
      "\t-------------------------------------------------------\n",
      "\n",
      "\n",
      "Start Saying...\n",
      "Okay!!, Please wait for a while!!....\n",
      " \n",
      "You said : can you please open Gmail\n",
      "Start Saying...\n",
      "Okay!!, Please wait for a while!!....\n",
      " \n",
      "You said : can you please open YouTube for me\n",
      "Start Saying...\n",
      "Okay!!, Please wait for a while!!....\n",
      " \n",
      "You said : play Atif Aslam songs\n",
      "Start Saying...\n",
      "Okay!!, Please wait for a while!!....\n",
      " \n",
      "You said : bye\n"
     ]
    }
   ],
   "source": [
    "import speech_recognition as sr\n",
    "import webbrowser\n",
    "import pyttsx3\n",
    "import os\n",
    "import pywhatkit\n",
    "import time\n",
    "\n",
    "\n",
    "print(\" \\n\\n\")\n",
    "print(\"\t\t******Example Of Tasks I Can Perform********\\n\")\n",
    "print(\"\t-------------------------------------------------------\")\n",
    "print(\" \t\t\tWindows Media Player\")\n",
    "print(\" \t\t\tNotepad\")\n",
    "print(\" \t\t\tYoutube\")\n",
    "print(\" \t\t\tChrome Browser\")\n",
    "print(\" \t\t\tGmail\")\n",
    "print(\" \t\t\tLikedIn\")\n",
    "print(\" \t\t\tMicrosoft Teams\")\n",
    "print(\" \t\t\t WhatsApp\")\n",
    "print(\" \t\t\t Quit or Exit\")\n",
    "print(\"\t-------------------------------------------------------\\n\\n\")\n",
    "\n",
    "pyttsx3.speak(\"Welcome\")\n",
    "\n",
    "r = sr.Recognizer()\n",
    "\n",
    "while True:\n",
    "    with sr.Microphone() as source:\n",
    "        r.adjust_for_ambient_noise(source,duration=5)\n",
    "        pyttsx3.speak(\"Hello dear, I am Manjit's Assistant, How can I help you.. \\n\")\n",
    "        pyttsx3.speak(\"Start saying...\")\n",
    "        print(\"Start Saying...\")\n",
    "        audio = r.listen(source)\n",
    "        pyttsx3.speak(\"Okay, Please wait for a while!!....\")\n",
    "        print(\"Okay!!, Please wait for a while!!....\")\n",
    "        print(\" \")\n",
    "        \n",
    "    p = r.recognize_google(audio)\n",
    "    print(\"You said : {}\". format(p))\n",
    "    \n",
    "    \n",
    "    if(\"Notepad\" in p) or (\"Editor\" in p):\n",
    "        pyttsx3.speak(\"Opening Notepad for you\")\n",
    "        os.system(\"Notepad\")\n",
    "    elif(\"Media Player\" in p):\n",
    "        pyttsx3.speak(\"Opening Media Player for you\")\n",
    "        os.system(\"wmplayer\")\n",
    "    elif(\"Chrome\" in p) or (\"Browser\" in p):\n",
    "        pyttsx3.speak(\"Opening Chrome Browser for you\")\n",
    "        webbrowser.open(\"Chrome\")\n",
    "    elif(\"Gmail\" in p) or (\"Email\" in p):\n",
    "        pyttsx3.speak(\"Opening Mail for you\")\n",
    "        webbrowser.open(\"https://mail.google.com\")\n",
    "    elif(\"who are you\" in p) or (\"what is your name\" in p) or (\"who developed you\" in p):\n",
    "        pyttsx3.speak(\"Hi this is Manjit Roy's Assistant how can i assist you. Just ask anything.\")\n",
    "    elif(\"YouTube\" in p):\n",
    "        pyttsx3.speak(\"Opening Youtube for you\")\n",
    "        webbrowser.open(\"https://www.youtube.com/\")\n",
    "    elif(\"LinkedIn\" in p):\n",
    "        pyttsx3.speak(\"Opening LinkedIn for you\")\n",
    "        webbrowser.open(\"https://www.linkedin.com/\")\n",
    "    elif(\"WhatsApp\" in p):\n",
    "        pyttsx3.speak(\"Opening WhatsApp for you\")\n",
    "        webbrowser.open(\"https://web.whatsapp.com/\")\n",
    "    elif(\"Microsoft\" in p) or (\"Teams\" in p):\n",
    "        pyttsx3.speak(\"Opening Microsoft Teams for you\")\n",
    "        webbrowser.open(\"https://www.microsoft.com/en-in/microsoft-teams/log-in\")\n",
    "    elif(\"exit\" in p) or (\"quit\" in p):\n",
    "        pyttsx3.speak(\"Closing the Program\")\n",
    "        pyttsx3.speak(\"Thanks! For your time\")\n",
    "        print(\"Thanks! For your time.\")\n",
    "        \n",
    "    elif('play' in p):\n",
    "      #  audio = take_audio()\n",
    "        song = p.replace('play', '')\n",
    "        pyttsx3.speak('Playing' + song)\n",
    "        pywhatkit.playonyt(song)\n",
    "    \n",
    "    elif('time' in p):\n",
    "      #  audio = take_audio()\n",
    "\n",
    "        t = time.localtime()\n",
    "        current_time = time.strftime(\"%H:%M:%S\", t)\n",
    "       # print(current_time)\n",
    "        pyttsx3.speak(' current time is' + current_time) \n",
    "        \n",
    "    elif ('how are you' in p):\n",
    "        pyttsx3.speak(\"I am fine, Thank you\")\n",
    "        pyttsx3.speak(\"How are you, Sir\")\n",
    " \n",
    "    elif ('fine' in p) or (\"good\" in p):\n",
    "        pyttsx3.speak(\"It's good to know that your fine\")\n",
    "        \n",
    "    elif ('bye' in p) or (\"See you\" in p):\n",
    "        pyttsx3.speak(\"Bye Take Care\")\n",
    "        break\n",
    "    else:\n",
    "        print(\" Error!! \")\n",
    "        pyttsx3.speak(\"Sorry.. Unable to hear\")"
   ]
  },
  {
   "cell_type": "code",
   "execution_count": null,
   "metadata": {},
   "outputs": [],
   "source": []
  },
  {
   "cell_type": "code",
   "execution_count": null,
   "metadata": {},
   "outputs": [],
   "source": []
  }
 ],
 "metadata": {
  "kernelspec": {
   "display_name": "Python 3",
   "language": "python",
   "name": "python3"
  },
  "language_info": {
   "codemirror_mode": {
    "name": "ipython",
    "version": 3
   },
   "file_extension": ".py",
   "mimetype": "text/x-python",
   "name": "python",
   "nbconvert_exporter": "python",
   "pygments_lexer": "ipython3",
   "version": "3.7.1"
  }
 },
 "nbformat": 4,
 "nbformat_minor": 2
}
